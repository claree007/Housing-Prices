{
  "nbformat": 4,
  "nbformat_minor": 0,
  "metadata": {
    "colab": {
      "name": "NSynth dataset.ipynb",
      "version": "0.3.2",
      "provenance": [],
      "collapsed_sections": [],
      "include_colab_link": true
    },
    "kernelspec": {
      "name": "python3",
      "display_name": "Python 3"
    }
  },
  "cells": [
    {
      "cell_type": "markdown",
      "metadata": {
        "id": "view-in-github",
        "colab_type": "text"
      },
      "source": [
        "<a href=\"https://colab.research.google.com/github/claree007/Housing-Prices/blob/master/NSynth_dataset.ipynb\" target=\"_parent\"><img src=\"https://colab.research.google.com/assets/colab-badge.svg\" alt=\"Open In Colab\"/></a>"
      ]
    },
    {
      "cell_type": "markdown",
      "metadata": {
        "id": "yakjDB5l64ix",
        "colab_type": "text"
      },
      "source": [
        "<h1>California Housing Prices</h1>\n",
        "\n",
        "This is a regression problem which I have tackled using different ML models and here I compare their training time and accuracy. I have used Scikit-Learn and TensorFlow.\n",
        "\n",
        "\n"
      ]
    },
    {
      "cell_type": "code",
      "metadata": {
        "id": "msJ_fxf6w9UW",
        "colab_type": "code",
        "colab": {}
      },
      "source": [
        "import os\n",
        "import time\n",
        "import numpy as np\n",
        "import pandas as pd\n",
        "import tensorflow as tf\n",
        "import matplotlib.pyplot as plt\n",
        "from tensorflow import keras\n",
        "from sklearn.pipeline import Pipeline\n",
        "from sklearn.linear_model import Ridge\n",
        "from sklearn.linear_model import Lasso\n",
        "from sklearn.linear_model import ElasticNet\n",
        "from sklearn.linear_model import SGDRegressor\n",
        "from sklearn.metrics import mean_squared_error\n",
        "from sklearn.preprocessing import StandardScaler\n",
        "from sklearn.linear_model import LinearRegression\n",
        "from sklearn.model_selection import cross_val_score\n",
        "from sklearn.model_selection import train_test_split\n",
        "from sklearn.preprocessing import PolynomialFeatures\n",
        "from sklearn.base import BaseEstimator, TransformerMixin"
      ],
      "execution_count": 0,
      "outputs": []
    },
    {
      "cell_type": "markdown",
      "metadata": {
        "id": "lEYDNJEr7xKx",
        "colab_type": "text"
      },
      "source": [
        "<h2>Loading the dataset</h2>\n",
        "\n",
        "The dataset is already split into train and test set but it is the ratio 1:1. So I combine the 2 sets and then divide the whole set into train and test sets in the ratio 80 : 20 and then split the training set to make validation set in the ratio 20 : 80. The dataset is already clean and ready to train."
      ]
    },
    {
      "cell_type": "code",
      "metadata": {
        "id": "F7S7Fq3i3LLi",
        "colab_type": "code",
        "colab": {}
      },
      "source": [
        "HOUSING_PATH = \"sample_data\"\n",
        "\n",
        "def load_housing_data(file_name, housing_path=HOUSING_PATH):\n",
        "    csv_path = os.path.join(housing_path, file_name)\n",
        "    return pd.read_csv(csv_path)\n",
        "\n",
        "\n",
        "housing_set1 = load_housing_data(file_name=\"california_housing_train.csv\")\n",
        "housing_set2 = load_housing_data(file_name=\"california_housing_test.csv\")\n",
        "\n",
        "housing = pd.concat([housing_set1, housing_set2], axis=0, ignore_index=True)\n",
        "\n",
        "housing_X = housing.drop(\"median_house_value\", axis=1)\n",
        "housing_y = housing[\"median_house_value\"].copy()\n",
        "\n",
        "X_train_whole, X_test, y_train_whole, y_test = train_test_split(housing_X, housing_y, test_size=0.2)\n",
        "X_train, X_val, y_train, y_val = train_test_split(X_train_whole, y_train_whole, test_size=0.2)\n",
        "\n",
        "print(\"Training set size:\", X_train.shape)\n",
        "print(\"Test set size:\", X_test.shape)\n",
        "\n",
        "housing.head()"
      ],
      "execution_count": 0,
      "outputs": []
    },
    {
      "cell_type": "markdown",
      "metadata": {
        "id": "U9dzx1QR-0__",
        "colab_type": "text"
      },
      "source": [
        "Some visualizations of the dataset."
      ]
    },
    {
      "cell_type": "code",
      "metadata": {
        "id": "Ex9VFypLCO-T",
        "colab_type": "code",
        "outputId": "78767e19-5e03-4f63-c689-240c70148441",
        "colab": {
          "base_uri": "https://localhost:8080/",
          "height": 190
        }
      },
      "source": [
        "#housing.hist(bins=50, figsize=(20, 15))\n",
        "#plt.show()\n",
        "\n",
        "correlation = housing.corr()\n",
        "correlation[\"median_house_value\"].sort_values(ascending=False)"
      ],
      "execution_count": 0,
      "outputs": [
        {
          "output_type": "execute_result",
          "data": {
            "text/plain": [
              "median_house_value    1.000000\n",
              "median_income         0.689109\n",
              "total_rooms           0.135298\n",
              "housing_median_age    0.104470\n",
              "households            0.066573\n",
              "total_bedrooms        0.051111\n",
              "population           -0.024234\n",
              "longitude            -0.045788\n",
              "latitude             -0.143969\n",
              "Name: median_house_value, dtype: float64"
            ]
          },
          "metadata": {
            "tags": []
          },
          "execution_count": 4
        }
      ]
    },
    {
      "cell_type": "markdown",
      "metadata": {
        "colab_type": "text",
        "id": "eYuPFh2XBOyH"
      },
      "source": [
        "<h2>Training</h2>\n",
        "\n",
        "For each model, the best hyperparameters will searched and used. The accuracy of each model during training is testd against a validation set."
      ]
    },
    {
      "cell_type": "code",
      "metadata": {
        "id": "GQlXApY_aHOI",
        "colab_type": "code",
        "colab": {}
      },
      "source": [
        "def rmse_error(y_train, y_train_predict, y_val, y_val_predict):\n",
        "    train_error = []\n",
        "    val_error = []\n",
        "    '''\n",
        "    for i in range(len(y_train)):\n",
        "        train_error.append(mean_squared_error(y_train.iloc[:i+1], y_train_predict[:i+1]))\n",
        "    for i in range(len(y_val)):\n",
        "        val_error.append(mean_squared_error(y_val.iloc[:i+1], y_val_predict[:i+1]))\n",
        "    '''\n",
        "    train_error = np.sqrt(mean_squared_error(y_train, y_train_predict))\n",
        "    val_error = np.sqrt(mean_squared_error(y_val, y_val_predict))\n",
        "    return train_error, val_error\n",
        "    '''\n",
        "    plt.plot(np.sqrt(train_error), \"b-\", linewidth=2, label=\"train\")\n",
        "    plt.plot(np.sqrt(val_error), \"r-\", linewidth=2, label=\"validation\")\n",
        "    plt.legend()\n",
        "    '''\n",
        "\n",
        "def cross_validation_score(X, y):\n",
        "    scores = cross_val_score(model, X, y, cv=10)\n",
        "    \n",
        "def train_model(model, X_t, y_t, X_v, y_v):\n",
        "    # \n",
        "    print(model)\n",
        "    start = time.time()\n",
        "    model.fit(X, y_train_whole)\n",
        "    end = time.time()\n",
        "    \n",
        "    y_train_predict = elastic_net.predict(X_train)\n",
        "    y_val_predict = elastic_net.predict(X_val)\n",
        "\n",
        "    rmse_error(y_train.values, y_train_predict, y_val.values, y_val_predict)\n",
        "\n",
        "    scores = cross_validation_score(lin_reg, X_train_whole, y_train_whole)\n",
        "    print(\"Accuracy: {0:2.2f} +/- {1:2.2f}\".format(scores.mean(), scores.std()))\n",
        "    print(\"Time taken:\", end-start)"
      ],
      "execution_count": 0,
      "outputs": []
    },
    {
      "cell_type": "code",
      "metadata": {
        "id": "KGOBuiwTkMBm",
        "colab_type": "code",
        "colab": {}
      },
      "source": [
        "# add the bias term to training set\n",
        "X_train_bias = np.c_[np.ones((X_train.shape[0], 1)), X_train]\n",
        "\n",
        "# add bais term to validation set\n",
        "X_val_bias = np.c_[np.ones((X_val.shape[0], 1)), X_val]"
      ],
      "execution_count": 0,
      "outputs": []
    },
    {
      "cell_type": "markdown",
      "metadata": {
        "id": "HABSOFB4_6WM",
        "colab_type": "text"
      },
      "source": [
        "<h3>Linear Regression</h3>\n",
        "\n",
        "1. Normal Equation"
      ]
    },
    {
      "cell_type": "code",
      "metadata": {
        "id": "NwfdTv0YrjAw",
        "colab_type": "code",
        "outputId": "d0d91e0c-1f92-4248-dd9c-d1655cdfd40c",
        "colab": {
          "base_uri": "https://localhost:8080/",
          "height": 69
        }
      },
      "source": [
        "\n",
        "#print(X_train_bias)\n",
        "theta_best = np.linalg.inv(X_train_bias.T.dot(X_train_bias)).dot(X_train_bias.T).dot(y_train)\n",
        "\n",
        "y_train_predict = X_train_bias.dot(theta_best)\n",
        "\n",
        "# making predictions\n",
        "\n",
        "y_val_predict = X_val_bias.dot(theta_best)\n",
        "\n",
        "rmse_error(y_train, y_train_predict, y_val, y_val_predict)"
      ],
      "execution_count": 0,
      "outputs": [
        {
          "output_type": "stream",
          "text": [
            "[196753.96271378 253776.39096495 275686.67553636 ... 240420.82852495\n",
            " 113908.62704181 555415.63074914]\n"
          ],
          "name": "stdout"
        },
        {
          "output_type": "execute_result",
          "data": {
            "text/plain": [
              "(69262.10859781038, 69052.37608887155)"
            ]
          },
          "metadata": {
            "tags": []
          },
          "execution_count": 8
        }
      ]
    },
    {
      "cell_type": "markdown",
      "metadata": {
        "id": "riC3x1hNYEjI",
        "colab_type": "text"
      },
      "source": [
        "2. Batch Gradient Descent"
      ]
    },
    {
      "cell_type": "code",
      "metadata": {
        "id": "Iqs1CdNbYIRl",
        "colab_type": "code",
        "outputId": "161116cf-9d9c-417b-de3b-ca7e005a6a1e",
        "colab": {
          "base_uri": "https://localhost:8080/",
          "height": 307
        }
      },
      "source": [
        "lr = 0.3\n",
        "n_iterations = 150\n",
        "m = X_train.shape[0]\n",
        "\n",
        "theta = np.random.randn(X_train.shape[1]+1, 1)\n",
        "cost = np.array([])\n",
        "std_scaler = StandardScaler()\n",
        "X_train_bias = std_scaler.fit_transform(X_train_bias)\n",
        "#print(X_train_bias.dot(theta))\n",
        "\n",
        "for iteration in range(n_iterations):\n",
        "    #print(X_train_bias.dot(theta))\n",
        "    #print(iteration,)\n",
        "    #y_train.reshape = (-1, 1)\n",
        "    y_train.values.shape = (y_train.shape[0], 1)\n",
        "    err = np.subtract(X_train_bias.dot(theta), y_train.values)\n",
        "    #print(X_train_bias.dot(theta).shape, y_train.shape, err.shape)\n",
        "    cost = np.append(cost, (1 / (2 * m)) * np.sum(np.square(err)))\n",
        "    #print(\"cost:\", cost[iteration])\n",
        "    gradient = (1 / m) * (X_train_bias.T.dot(err))\n",
        "    #print(\"gradient:\", gradient)\n",
        "    #print(X_train_bias.T.shape, err.shape, (X_train_bias.T.dot(err)).shape)\n",
        "    theta = theta - (lr * gradient)\n",
        "    #print(\"theta:\", theta)\n",
        "    \n",
        "plt.plot(np.arange(1, n_iterations + 1), cost, \"b-\", label=\"cost function\")\n",
        "plt.xlabel(\"no of iterations\")\n",
        "plt.ylabel(\"cost\")\n",
        "plt.show()\n",
        "\n",
        "y_train_predict = X_train_bias.dot(theta)\n",
        "y_val_predict = X_val_bias.dot(theta)\n",
        "#print(y_train.values, y_train_predict)\n",
        "rmse_error(y_train.values, y_train_predict, y_val.values, y_val_predict)"
      ],
      "execution_count": 0,
      "outputs": [
        {
          "output_type": "display_data",
          "data": {
            "image/png": "[encoded data removed]",
            "text/plain": [
              "<Figure size 432x288 with 1 Axes>"
            ]
          },
          "metadata": {
            "tags": []
          }
        },
        {
          "output_type": "execute_result",
          "data": {
            "text/plain": [
              "(218593.23477222692, 93681217.32775296)"
            ]
          },
          "metadata": {
            "tags": []
          },
          "execution_count": 37
        }
      ]
    },
    {
      "cell_type": "markdown",
      "metadata": {
        "id": "BEhdsJetsWqT",
        "colab_type": "text"
      },
      "source": [
        "3. Stochastic Gradient Descent"
      ]
    },
    {
      "cell_type": "code",
      "metadata": {
        "id": "6eDAOw8TzEEb",
        "colab_type": "code",
        "outputId": "5706a136-e26a-4e0e-e9b8-0d8729493f1f",
        "colab": {
          "base_uri": "https://localhost:8080/",
          "height": 34
        }
      },
      "source": [
        "sgd_reg = SGDRegressor(max_iter=1000, tol=1e-3, penalty=None, eta0=0.03)\n",
        "sgd_reg.fit(X_train_bias, y_train.ravel())\n",
        "\n",
        "y_train_predict = sgd_reg.predict(X_train_bias)\n",
        "y_val_predict = sgd_reg.predict(X_val_bias)\n",
        "\n",
        "rmse_error(y_train.values, y_train_predict, y_val.values, y_val_predict)"
      ],
      "execution_count": 0,
      "outputs": [
        {
          "output_type": "execute_result",
          "data": {
            "text/plain": [
              "(2028073076128049.0, 2043520310561359.2)"
            ]
          },
          "metadata": {
            "tags": []
          },
          "execution_count": 66
        }
      ]
    },
    {
      "cell_type": "markdown",
      "metadata": {
        "id": "Rzdn3xhl3tVg",
        "colab_type": "text"
      },
      "source": [
        "4. Ridge Regression"
      ]
    },
    {
      "cell_type": "code",
      "metadata": {
        "id": "3gjDmLNn3zPs",
        "colab_type": "code",
        "outputId": "6cfef615-91f3-4695-ed5f-a087355a85e9",
        "colab": {
          "base_uri": "https://localhost:8080/",
          "height": 34
        }
      },
      "source": [
        "ridge_reg = Ridge(alpha=1, solver=\"cholesky\")\n",
        "ridge_reg.fit(X_train, y_train.ravel())\n",
        "\n",
        "y_train_predict = ridge_reg.predict(X_train)\n",
        "y_val_predict = ridge_reg.predict(X_val)\n",
        "\n",
        "rmse_error(y_train.values, y_train_predict, y_val.values, y_val_predict)"
      ],
      "execution_count": 0,
      "outputs": [
        {
          "output_type": "execute_result",
          "data": {
            "text/plain": [
              "(69262.10914904466, 69052.6120658872)"
            ]
          },
          "metadata": {
            "tags": []
          },
          "execution_count": 73
        }
      ]
    },
    {
      "cell_type": "markdown",
      "metadata": {
        "id": "7j88Dby-5cHB",
        "colab_type": "text"
      },
      "source": [
        "5. Lasso Regression"
      ]
    },
    {
      "cell_type": "code",
      "metadata": {
        "id": "NMZOm7lS5gQ0",
        "colab_type": "code",
        "outputId": "e8346cbd-d795-43b0-a9a7-111acfbfe01b",
        "colab": {
          "base_uri": "https://localhost:8080/",
          "height": 34
        }
      },
      "source": [
        "lasso_reg = Lasso(alpha=0.1)\n",
        "lasso_reg.fit(X_train, y_train.ravel())\n",
        "\n",
        "y_train_predict = lasso_reg.predict(X_train)\n",
        "y_val_predict = lasso_reg.predict(X_val)\n",
        "\n",
        "rmse_error(y_train.values, y_train_predict, y_val.values, y_val_predict)"
      ],
      "execution_count": 0,
      "outputs": [
        {
          "output_type": "execute_result",
          "data": {
            "text/plain": [
              "(69262.10859831468, 69052.38359630929)"
            ]
          },
          "metadata": {
            "tags": []
          },
          "execution_count": 77
        }
      ]
    },
    {
      "cell_type": "markdown",
      "metadata": {
        "id": "jibJhP027Jvb",
        "colab_type": "text"
      },
      "source": [
        "6. Elastic Net"
      ]
    },
    {
      "cell_type": "code",
      "metadata": {
        "id": "pzGIHv4T7Mwu",
        "colab_type": "code",
        "outputId": "3a58f65e-8f76-4fa5-c620-e7e09956e6d4",
        "colab": {
          "base_uri": "https://localhost:8080/",
          "height": 34
        }
      },
      "source": [
        "elastic_net = ElasticNet(alpha=0.1, l1_ratio=0.5)\n",
        "elastic_net.fit(X_train, y_train.ravel())\n",
        "\n"
      ],
      "execution_count": 0,
      "outputs": [
        {
          "output_type": "execute_result",
          "data": {
            "text/plain": [
              "(69422.92461676648, 69336.57644675748)"
            ]
          },
          "metadata": {
            "tags": []
          },
          "execution_count": 81
        }
      ]
    },
    {
      "cell_type": "markdown",
      "metadata": {
        "id": "xzJCfNNc8zwU",
        "colab_type": "text"
      },
      "source": [
        "7. Polynomial Features"
      ]
    },
    {
      "cell_type": "code",
      "metadata": {
        "id": "Zl4nsXrz84ME",
        "colab_type": "code",
        "outputId": "f1cf275f-8355-4b56-c254-506025453882",
        "colab": {
          "base_uri": "https://localhost:8080/",
          "height": 34
        }
      },
      "source": [
        "poly_features = PolynomialFeatures(degree=2, include_bias=\"False\")\n",
        "X_train_poly = poly_features.fit_transform(X_train)\n",
        "X_val_poly = poly_features.transform(X_val)\n",
        "\n",
        "lin_reg = LinearRegression()\n",
        "lin_reg.fit(X_train_poly, y_train.ravel())\n",
        "\n",
        "y_train_predict = lin_reg.predict(X_train_poly)\n",
        "y_val_predict = lin_reg.predict(X_val_poly)\n",
        "\n",
        "rmse_error(y_train.values, y_train_predict, y_val.values, y_val_predict)"
      ],
      "execution_count": 0,
      "outputs": [
        {
          "output_type": "execute_result",
          "data": {
            "text/plain": [
              "(62911.05336098876, 62825.81707574824)"
            ]
          },
          "metadata": {
            "tags": []
          },
          "execution_count": 82
        }
      ]
    },
    {
      "cell_type": "code",
      "metadata": {
        "id": "6XSNLcBnEPqn",
        "colab_type": "code",
        "colab": {}
      },
      "source": [
        "lin_reg = LinearRegression()\n",
        "train_model(lin_reg)"
      ],
      "execution_count": 0,
      "outputs": []
    },
    {
      "cell_type": "code",
      "metadata": {
        "id": "qeNXwjMU6Xgx",
        "colab_type": "code",
        "outputId": "4c17fe07-fb8a-4a97-91cf-db6d3721c35a",
        "colab": {
          "base_uri": "https://localhost:8080/",
          "height": 69
        }
      },
      "source": [
        "rooms_ind, bedrooms_ind, population_ind, households_ind = 3, 4, 5, 6\n",
        "\n",
        "class CombinedAttributesAdder(BaseEstimator, TransformerMixin):\n",
        "    def __init__(self, add_bedrooms_per_room = True):\n",
        "        self.add_bedrooms_per_room = add_bedrooms_per_room\n",
        "    def fit(self, X, y=None):\n",
        "        return self\n",
        "    def transform(self, X, y=None):\n",
        "        rooms_per_household = X[:, rooms_ind] / X[:, households_ind]\n",
        "        population_per_household = X[:, population_ind] / X[:, households_ind]\n",
        "        if self.add_bedrooms_per_room:\n",
        "            bedrooms_per_room = X[:, bedrooms_ind] / X[:, rooms_ind]\n",
        "            return np.c_[X, rooms_per_household, population_per_household, bedrooms_per_room]\n",
        "        else:\n",
        "            return np.c_[X, rooms_per_household, population_per_household]\n",
        "\n",
        "lr_pipeline = Pipeline([\n",
        "    ('attr_adder', CombinedAttributesAdder()),\n",
        "    ('std_scaler', StandardScaler())\n",
        "])\n",
        "\n",
        "housing_extra_attribs = attr_adder.transform(X_train_whole.values)\n",
        "housing_trans = lr_pipeline.fit_transform(X_train_whole.values)\n",
        "lin_reg = LinearRegression()\n",
        "train_model(model=lin_reg, X=housing_trans)"
      ],
      "execution_count": 0,
      "outputs": [
        {
          "output_type": "stream",
          "text": [
            "LinearRegression(copy_X=True, fit_intercept=True, n_jobs=None, normalize=False)\n",
            "Accuracy: 0.64 +/- 0.01\n",
            "Time taken: 0.004478931427001953\n"
          ],
          "name": "stdout"
        }
      ]
    },
    {
      "cell_type": "markdown",
      "metadata": {
        "id": "X7WiV4zJ3T-C",
        "colab_type": "text"
      },
      "source": [
        "<h3>Support Vector Machines</h3>"
      ]
    },
    {
      "cell_type": "code",
      "metadata": {
        "id": "kLj55U293d1A",
        "colab_type": "code",
        "colab": {}
      },
      "source": [
        "svm_reg = LinearSVR(epsilon=1.5)"
      ],
      "execution_count": 0,
      "outputs": []
    },
    {
      "cell_type": "markdown",
      "metadata": {
        "id": "iaH8Ix3R3iaW",
        "colab_type": "text"
      },
      "source": [
        "<h3>Neural Networks</h3>"
      ]
    },
    {
      "cell_type": "code",
      "metadata": {
        "id": "o8wJoDLX3oAk",
        "colab_type": "code",
        "colab": {}
      },
      "source": [
        "model = keras.models.Sequential([\n",
        "    keras.layers.Dense(30, activation=\"relu\", input_shape=X_train.shape[1:]),\n",
        "    keras.layers.Dense(1)\n",
        "])\n",
        "\n",
        "model.complie(loss=\"mean_squared_error\", optimizer=\"sgd\")\n",
        "history = model.fit(X_train, y_train, epochs=10, validation_data=(X_val, y_val))\n"
      ],
      "execution_count": 0,
      "outputs": []
    }
  ]
}
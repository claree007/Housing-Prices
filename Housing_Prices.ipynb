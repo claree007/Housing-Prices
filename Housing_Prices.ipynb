{
  "nbformat": 4,
  "nbformat_minor": 0,
  "metadata": {
    "colab": {
      "name": "Housing_Prices.ipynb",
      "version": "0.3.2",
      "provenance": [],
      "collapsed_sections": [],
      "include_colab_link": true
    },
    "kernelspec": {
      "name": "python3",
      "display_name": "Python 3"
    }
  },
  "cells": [
    {
      "cell_type": "markdown",
      "metadata": {
        "id": "view-in-github",
        "colab_type": "text"
      },
      "source": [
        "<a href=\"https://colab.research.google.com/github/claree007/Housing-Prices/blob/master/Housing_Prices.ipynb\" target=\"_parent\"><img src=\"https://colab.research.google.com/assets/colab-badge.svg\" alt=\"Open In Colab\"/></a>"
      ]
    },
    {
      "cell_type": "markdown",
      "metadata": {
        "id": "yakjDB5l64ix",
        "colab_type": "text"
      },
      "source": [
        "<h1>California Housing Prices</h1>\n",
        "\n",
        "This is a regression problem which I have tackled using different ML models and here I compare their training time and accuracy. I have used Scikit-Learn and TensorFlow.\n",
        "\n",
        "\n"
      ]
    },
    {
      "cell_type": "code",
      "metadata": {
        "id": "msJ_fxf6w9UW",
        "colab_type": "code",
        "colab": {}
      },
      "source": [
        "import os\n",
        "import time\n",
        "import warnings\n",
        "import numpy as np\n",
        "import pandas as pd\n",
        "import seaborn as sns\n",
        "from joblib import dump, load\n",
        "import matplotlib.pyplot as plt\n",
        "from sklearn.svm import SVR\n",
        "from sklearn.pipeline import Pipeline\n",
        "from sklearn.linear_model import Ridge\n",
        "from sklearn.linear_model import Lasso\n",
        "from sklearn.linear_model import ElasticNet\n",
        "from sklearn.linear_model import SGDRegressor\n",
        "from sklearn.tree import DecisionTreeRegressor\n",
        "from sklearn.metrics import mean_squared_error\n",
        "from sklearn.model_selection import GridSearchCV\n",
        "from sklearn.preprocessing import StandardScaler\n",
        "from sklearn.linear_model import LinearRegression\n",
        "from sklearn.ensemble import RandomForestRegressor\n",
        "from sklearn.model_selection import cross_val_score\n",
        "from sklearn.model_selection import train_test_split\n",
        "from sklearn.preprocessing import PolynomialFeatures\n",
        "from sklearn.base import BaseEstimator, TransformerMixin, RegressorMixin"
      ],
      "execution_count": 0,
      "outputs": []
    },
    {
      "cell_type": "markdown",
      "metadata": {
        "id": "lEYDNJEr7xKx",
        "colab_type": "text"
      },
      "source": [
        "<h2>Loading the dataset</h2>\n",
        "\n",
        "The dataset is already split into train and test set but it is the ratio 1:1. So I combine the 2 sets and then divide the whole set into train and test sets in the ratio 80 : 20 and then split the training set to make validation set in the ratio 20 : 80. The dataset is already clean and ready to train."
      ]
    },
    {
      "cell_type": "code",
      "metadata": {
        "id": "F7S7Fq3i3LLi",
        "colab_type": "code",
        "outputId": "02968c66-8bae-448c-8be1-dab4917d3fea",
        "colab": {
          "base_uri": "https://localhost:8080/",
          "height": 232
        }
      },
      "source": [
        "HOUSING_PATH = \"sample_data\"\n",
        "\n",
        "def load_housing_data(file_name, housing_path=HOUSING_PATH):\n",
        "    csv_path = os.path.join(housing_path, file_name)\n",
        "    return pd.read_csv(csv_path)\n",
        "\n",
        "\n",
        "housing_set1 = load_housing_data(file_name=\"california_housing_train.csv\")\n",
        "housing_set2 = load_housing_data(file_name=\"california_housing_test.csv\")\n",
        "\n",
        "housing = pd.concat([housing_set1, housing_set2], axis=0, ignore_index=True)\n",
        "\n",
        "housing_X = housing.drop(\"median_house_value\", axis=1)\n",
        "housing_y = housing[\"median_house_value\"].copy()\n",
        "\n",
        "X_train, X_test, y_train, y_test = train_test_split(housing_X, housing_y, test_size=0.2)\n",
        "#X_train, X_val, y_train, y_val = train_test_split(X_train_whole, y_train_whole, test_size=0.2)\n",
        "\n",
        "print(\"Training set size:\", X_train.shape)\n",
        "#print(\"Validation set size:\", X_val.shape)\n",
        "print(\"Test set size:\", X_test.shape)\n",
        "\n",
        "housing.head()"
      ],
      "execution_count": 2,
      "outputs": [
        {
          "output_type": "stream",
          "text": [
            "Training set size: (16000, 8)\n",
            "Test set size: (4000, 8)\n"
          ],
          "name": "stdout"
        },
        {
          "output_type": "execute_result",
          "data": {
            "text/html": [
              "<div>\n",
              "<style scoped>\n",
              "    .dataframe tbody tr th:only-of-type {\n",
              "        vertical-align: middle;\n",
              "    }\n",
              "\n",
              "    .dataframe tbody tr th {\n",
              "        vertical-align: top;\n",
              "    }\n",
              "\n",
              "    .dataframe thead th {\n",
              "        text-align: right;\n",
              "    }\n",
              "</style>\n",
              "<table border=\"1\" class=\"dataframe\">\n",
              "  <thead>\n",
              "    <tr style=\"text-align: right;\">\n",
              "      <th></th>\n",
              "      <th>longitude</th>\n",
              "      <th>latitude</th>\n",
              "      <th>housing_median_age</th>\n",
              "      <th>total_rooms</th>\n",
              "      <th>total_bedrooms</th>\n",
              "      <th>population</th>\n",
              "      <th>households</th>\n",
              "      <th>median_income</th>\n",
              "      <th>median_house_value</th>\n",
              "    </tr>\n",
              "  </thead>\n",
              "  <tbody>\n",
              "    <tr>\n",
              "      <th>0</th>\n",
              "      <td>-114.31</td>\n",
              "      <td>34.19</td>\n",
              "      <td>15.0</td>\n",
              "      <td>5612.0</td>\n",
              "      <td>1283.0</td>\n",
              "      <td>1015.0</td>\n",
              "      <td>472.0</td>\n",
              "      <td>1.4936</td>\n",
              "      <td>66900.0</td>\n",
              "    </tr>\n",
              "    <tr>\n",
              "      <th>1</th>\n",
              "      <td>-114.47</td>\n",
              "      <td>34.40</td>\n",
              "      <td>19.0</td>\n",
              "      <td>7650.0</td>\n",
              "      <td>1901.0</td>\n",
              "      <td>1129.0</td>\n",
              "      <td>463.0</td>\n",
              "      <td>1.8200</td>\n",
              "      <td>80100.0</td>\n",
              "    </tr>\n",
              "    <tr>\n",
              "      <th>2</th>\n",
              "      <td>-114.56</td>\n",
              "      <td>33.69</td>\n",
              "      <td>17.0</td>\n",
              "      <td>720.0</td>\n",
              "      <td>174.0</td>\n",
              "      <td>333.0</td>\n",
              "      <td>117.0</td>\n",
              "      <td>1.6509</td>\n",
              "      <td>85700.0</td>\n",
              "    </tr>\n",
              "    <tr>\n",
              "      <th>3</th>\n",
              "      <td>-114.57</td>\n",
              "      <td>33.64</td>\n",
              "      <td>14.0</td>\n",
              "      <td>1501.0</td>\n",
              "      <td>337.0</td>\n",
              "      <td>515.0</td>\n",
              "      <td>226.0</td>\n",
              "      <td>3.1917</td>\n",
              "      <td>73400.0</td>\n",
              "    </tr>\n",
              "    <tr>\n",
              "      <th>4</th>\n",
              "      <td>-114.57</td>\n",
              "      <td>33.57</td>\n",
              "      <td>20.0</td>\n",
              "      <td>1454.0</td>\n",
              "      <td>326.0</td>\n",
              "      <td>624.0</td>\n",
              "      <td>262.0</td>\n",
              "      <td>1.9250</td>\n",
              "      <td>65500.0</td>\n",
              "    </tr>\n",
              "  </tbody>\n",
              "</table>\n",
              "</div>"
            ],
            "text/plain": [
              "   longitude  latitude  ...  median_income  median_house_value\n",
              "0    -114.31     34.19  ...         1.4936             66900.0\n",
              "1    -114.47     34.40  ...         1.8200             80100.0\n",
              "2    -114.56     33.69  ...         1.6509             85700.0\n",
              "3    -114.57     33.64  ...         3.1917             73400.0\n",
              "4    -114.57     33.57  ...         1.9250             65500.0\n",
              "\n",
              "[5 rows x 9 columns]"
            ]
          },
          "metadata": {
            "tags": []
          },
          "execution_count": 2
        }
      ]
    },
    {
      "cell_type": "markdown",
      "metadata": {
        "id": "U9dzx1QR-0__",
        "colab_type": "text"
      },
      "source": [
        "Some visualizations of the dataset."
      ]
    },
    {
      "cell_type": "code",
      "metadata": {
        "id": "Ex9VFypLCO-T",
        "colab_type": "code",
        "outputId": "bea3b967-252d-49ff-fc1b-06017b343b6e",
        "colab": {
          "base_uri": "https://localhost:8080/",
          "height": 485
        }
      },
      "source": [
        "correlation = housing.corr()\n",
        "fig = plt.figure(figsize=(8, 6))\n",
        "plt.title(\"Correlation matrix\")\n",
        "fig = sns.heatmap(correlation, annot=True)"
      ],
      "execution_count": 3,
      "outputs": [
        {
          "output_type": "display_data",
          "data": {
            "image/png": "[encoded data removed]",
            "text/plain": [
              "<Figure size 576x432 with 2 Axes>"
            ]
          },
          "metadata": {
            "tags": []
          }
        }
      ]
    },
    {
      "cell_type": "markdown",
      "metadata": {
        "id": "mBKrsnKDvj6e",
        "colab_type": "text"
      },
      "source": [
        "<h2>Preparing the dataset</h2>"
      ]
    },
    {
      "cell_type": "code",
      "metadata": {
        "id": "KGOBuiwTkMBm",
        "colab_type": "code",
        "colab": {}
      },
      "source": [
        "rooms_ind, bedrooms_ind, population_ind, households_ind = 3, 4, 5, 6\n",
        "\n",
        "class CombinedAttributesAdder(BaseEstimator, TransformerMixin):\n",
        "    def __init__(self, add_bedrooms_per_room = True):\n",
        "        self.add_bedrooms_per_room = add_bedrooms_per_room\n",
        "    def fit(self, X, y=None):\n",
        "        return self\n",
        "    def transform(self, X, y=None):\n",
        "        rooms_per_household = X[:, rooms_ind] / X[:, households_ind]\n",
        "        population_per_household = X[:, population_ind] / X[:, households_ind]\n",
        "        if self.add_bedrooms_per_room:\n",
        "            bedrooms_per_room = X[:, bedrooms_ind] / X[:, rooms_ind]\n",
        "            return np.c_[X, rooms_per_household, population_per_household, bedrooms_per_room]\n",
        "        else:\n",
        "            return np.c_[X, rooms_per_household, population_per_household]\n",
        "\n",
        "class AddBias(BaseEstimator, TransformerMixin):\n",
        "    def fit(self, X, y=None):\n",
        "        return self\n",
        "    def transform(self, X, Y=None):\n",
        "        return np.c_[np.ones((X.shape[0], 1)), X]\n",
        "\n",
        "\n",
        "lin_reg_pipeline = Pipeline([\n",
        "    (\"comb_attr\", CombinedAttributesAdder()),\n",
        "    (\"poly_features\", PolynomialFeatures(degree=2, include_bias=\"False\")),\n",
        "    (\"std_scaler\", StandardScaler()),\n",
        "    (\"bias_adder\", AddBias()),\n",
        "])\n",
        "\n",
        "# standardize and add bias to training set\n",
        "X_train_bias = lin_reg_pipeline.fit_transform(X_train.values)\n",
        "\n",
        "# standardize and add bias to validation set\n",
        "#X_val_bias = lin_reg_pipeline.transform(X_val.values)\n",
        "\n",
        "\n",
        "# to prevent some error\n",
        "y_train = y_train.ravel().reshape(y_train.shape[0], 1)\n",
        "#y_val = y_val.ravel().reshape(y_val.shape[0], 1)"
      ],
      "execution_count": 0,
      "outputs": []
    },
    {
      "cell_type": "markdown",
      "metadata": {
        "colab_type": "text",
        "id": "eYuPFh2XBOyH"
      },
      "source": [
        "<h2>Training</h2>\n",
        "\n",
        "For each model, the best hyperparameters will searched and used. The fitting of each model during training is tested against a validation set. The lower the score, the better the fitting."
      ]
    },
    {
      "cell_type": "code",
      "metadata": {
        "id": "GQlXApY_aHOI",
        "colab_type": "code",
        "colab": {}
      },
      "source": [
        "def learning_curve(model, X_train, y_train, X_val, y_val):\n",
        "    train_error = []\n",
        "    val_error = []\n",
        "    m_train = len(X_train)\n",
        "    m_val = len(X_val)\n",
        "    \n",
        "    if m_val <= m_train:\n",
        "        m = m_val\n",
        "    else:\n",
        "        m = m_train\n",
        "        \n",
        "    for i in range(10, m+1):\n",
        "        model.fit(X_train[:i], y_train[:i])\n",
        "        y_train_predict = model.predict(X_train[:m])\n",
        "        y_val_predict = model.predict(X_val)\n",
        "        train_error.append(mean_squared_error(y_train[:m], y_train_predict))\n",
        "        val_error.append(mean_squared_error(y_val, y_val_predict))\n",
        "        \n",
        "    plt.plot(np.sqrt(train_error), \"b-\", linewidth=3, label=\"train\")\n",
        "    plt.plot(np.sqrt(val_error), \"r-\", label=\"val\")\n",
        "    plt.legend()\n",
        "    plt.show()\n",
        "    \n",
        "    \n",
        "def grid_search(model, param_grid={}):\n",
        "    gs = GridSearchCV(model, param_grid, cv=3, scoring=\"neg_mean_squared_error\",\n",
        "                      error_score=0.0, return_train_score=True, refit=True)\n",
        "    with warnings.catch_warnings():\n",
        "        warnings.simplefilter(\"ignore\")\n",
        "        gs.fit(X_train_bias, y_train)\n",
        "    try:\n",
        "        print(gs.best_estimator_)\n",
        "        print(\"Best validation Score:\", np.sqrt(abs(gs.best_score_)))\n",
        "        #with open(type(model).__name__ + '.pickle', 'wb') as f:\n",
        "        dump(gs.best_estimator_, type(model).__name__ + '.pickle')#pickle.dump(model, f)\n",
        "        return gs.best_estimator_\n",
        "    except:\n",
        "        print(\"No model found!!\")\n",
        "        return model"
      ],
      "execution_count": 0,
      "outputs": []
    },
    {
      "cell_type": "markdown",
      "metadata": {
        "id": "HABSOFB4_6WM",
        "colab_type": "text"
      },
      "source": [
        "<h3>Linear Regression</h3>\n",
        "\n",
        "1. SVD"
      ]
    },
    {
      "cell_type": "code",
      "metadata": {
        "id": "NwfdTv0YrjAw",
        "colab_type": "code",
        "outputId": "3a353581-68e0-4871-95c9-9f9845576f96",
        "colab": {
          "base_uri": "https://localhost:8080/",
          "height": 51
        }
      },
      "source": [
        "lin_reg = LinearRegression()\n",
        "param_grid = {'normalize': [True, False]}\n",
        "\n",
        "lin_reg = grid_search(lin_reg, param_grid)"
      ],
      "execution_count": 6,
      "outputs": [
        {
          "output_type": "stream",
          "text": [
            "LinearRegression(copy_X=True, fit_intercept=True, n_jobs=None, normalize=False)\n",
            "Best validation Score: 229734.86488515313\n"
          ],
          "name": "stdout"
        }
      ]
    },
    {
      "cell_type": "markdown",
      "metadata": {
        "id": "riC3x1hNYEjI",
        "colab_type": "text"
      },
      "source": [
        "2. Batch Gradient Descent"
      ]
    },
    {
      "cell_type": "code",
      "metadata": {
        "id": "Iqs1CdNbYIRl",
        "colab_type": "code",
        "outputId": "52b5241e-4912-41d0-a3cd-db4ab61eb44b",
        "colab": {
          "base_uri": "https://localhost:8080/",
          "height": 51
        }
      },
      "source": [
        "class BatchGradientDescent(BaseEstimator, RegressorMixin):\n",
        "    def __init__(self, lr=0.01, n_iterations=10000):\n",
        "        self.lr = lr\n",
        "        self.n_iterations = n_iterations\n",
        "        self.intercept_ = None\n",
        "        self.coef_ = None\n",
        "        self.theta = None\n",
        "        self.cost = np.array([])\n",
        "        \n",
        "    def gradient_descent(self, X, y, theta):\n",
        "        m = X.shape[0]\n",
        "        for iteration in range(self.n_iterations):\n",
        "            err = np.subtract(X.dot(theta), y)\n",
        "            self.cost = np.append(self.cost, (1 / (2 * m)) * np.sum(np.square(err)))\n",
        "            gradient = (1 / m) * (X.T.dot(err))\n",
        "            theta = theta - (self.lr * gradient)\n",
        "        return theta\n",
        "        \n",
        "    def fit(self, X, y=None, theta=None):\n",
        "        if theta == None:\n",
        "            self.theta = np.random.randn(X.shape[1], 1)\n",
        "        else:\n",
        "            self.theta = theta\n",
        "        self.theta = self.gradient_descent(X, y, self.theta)\n",
        "        self.intercept_ = self.theta[0]\n",
        "        self.coef_ = self.theta[1:]\n",
        "        \n",
        "    def predict(self, X):\n",
        "        try:\n",
        "            return X.dot(self.theta)\n",
        "        except Exception as e:\n",
        "            print(e)\n",
        "            return \"Run the fit method first\"\n",
        "        \n",
        "    def score(self, X, y):\n",
        "        # counts number of values bigger than mean\n",
        "        u = sum((y - self.predict(X))**2.0)\n",
        "        v = sum((y - y.mean())**2.0)\n",
        "        return 1.0 - (u / v)\n",
        "        \n",
        "bgd = BatchGradientDescent()\n",
        "param_grid = {}\n",
        "\n",
        "bgd = grid_search(bgd, param_grid)"
      ],
      "execution_count": 7,
      "outputs": [
        {
          "output_type": "stream",
          "text": [
            "BatchGradientDescent(lr=0.01, n_iterations=10000)\n",
            "Best validation Score: 69851.14346401927\n"
          ],
          "name": "stdout"
        }
      ]
    },
    {
      "cell_type": "markdown",
      "metadata": {
        "id": "BEhdsJetsWqT",
        "colab_type": "text"
      },
      "source": [
        "3. Stochastic Gradient Descent"
      ]
    },
    {
      "cell_type": "code",
      "metadata": {
        "id": "6eDAOw8TzEEb",
        "colab_type": "code",
        "colab": {
          "base_uri": "https://localhost:8080/",
          "height": 138
        },
        "outputId": "b5f0bb2e-41b4-409e-d55e-7e72bf11edbe"
      },
      "source": [
        "sgd_reg = SGDRegressor()\n",
        "param_grid = {'loss': ['squared_loss', 'squared_epsilon_insensitive', 'huber'],\n",
        "              'penalty': ['l1', 'l2', 'elasticnet'], 'alpha': [0.1, 0.03, 0.003],\n",
        "              'l1_ratio': [0.5, 0.3], 'max_iter': [2000], 'eta0': [0.01, 0.1],\n",
        "              'learning_rate': ['adaptive', 'constant', 'optimal', 'invscaling'], 'power_t': [0.1, 0.01],\n",
        "              'early_stopping': [True], 'epsilon': [0.01, 0.1]}\n",
        "\n",
        "sgd_reg = grid_search(sgd_reg, param_grid)"
      ],
      "execution_count": 8,
      "outputs": [
        {
          "output_type": "stream",
          "text": [
            "SGDRegressor(alpha=0.003, average=False, early_stopping=True, epsilon=0.1,\n",
            "             eta0=0.1, fit_intercept=True, l1_ratio=0.5,\n",
            "             learning_rate='adaptive', loss='huber', max_iter=2000,\n",
            "             n_iter_no_change=5, penalty='l1', power_t=0.01, random_state=None,\n",
            "             shuffle=True, tol=0.001, validation_fraction=0.1, verbose=0,\n",
            "             warm_start=False)\n",
            "Best validation Score: 149301.33196738642\n"
          ],
          "name": "stdout"
        }
      ]
    },
    {
      "cell_type": "markdown",
      "metadata": {
        "id": "Rzdn3xhl3tVg",
        "colab_type": "text"
      },
      "source": [
        "4. Ridge Regression"
      ]
    },
    {
      "cell_type": "code",
      "metadata": {
        "id": "3gjDmLNn3zPs",
        "colab_type": "code",
        "outputId": "0421145d-4d89-484b-b466-d33d2f89e3c2",
        "colab": {
          "base_uri": "https://localhost:8080/",
          "height": 69
        }
      },
      "source": [
        "ridge_reg = Ridge()\n",
        "param_grid = {'alpha': [10.0, 15.0, 20.0], 'normalize': [True, False], 'max_iter': [1000, 2000],\n",
        "              'solver': ['cholesky', 'lsqr', 'sag', 'saga'], 'tol': [1e-5]}\n",
        "\n",
        "ridge_reg = grid_search(ridge_reg, param_grid)"
      ],
      "execution_count": 0,
      "outputs": [
        {
          "output_type": "stream",
          "text": [
            "Ridge(alpha=10.0, copy_X=True, fit_intercept=True, max_iter=2000,\n",
            "      normalize=False, random_state=None, solver='saga', tol=1e-05)\n",
            "Best validation Score: 65283.09770391636\n"
          ],
          "name": "stdout"
        }
      ]
    },
    {
      "cell_type": "markdown",
      "metadata": {
        "id": "7j88Dby-5cHB",
        "colab_type": "text"
      },
      "source": [
        "5. Lasso Regression"
      ]
    },
    {
      "cell_type": "code",
      "metadata": {
        "id": "NMZOm7lS5gQ0",
        "colab_type": "code",
        "outputId": "f395ce27-ee83-4c80-d0b3-ba754c31e91b",
        "colab": {
          "base_uri": "https://localhost:8080/",
          "height": 86
        }
      },
      "source": [
        "lasso_reg = Lasso()\n",
        "param_grid = {'alpha': [0.5, 1.0, 2.0], 'normalize': [True, False],\n",
        "              'max_iter': [1000, 2000], 'warm_start': [True, False]}\n",
        "\n",
        "lasso_reg = grid_search(lasso_reg, param_grid)"
      ],
      "execution_count": 0,
      "outputs": [
        {
          "output_type": "stream",
          "text": [
            "Lasso(alpha=1.0, copy_X=True, fit_intercept=True, max_iter=1000, normalize=True,\n",
            "      positive=False, precompute=False, random_state=None, selection='cyclic',\n",
            "      tol=0.0001, warm_start=True)\n",
            "Best validation Score: 66228.33292208609\n"
          ],
          "name": "stdout"
        }
      ]
    },
    {
      "cell_type": "markdown",
      "metadata": {
        "id": "jibJhP027Jvb",
        "colab_type": "text"
      },
      "source": [
        "6. Elastic Net"
      ]
    },
    {
      "cell_type": "code",
      "metadata": {
        "id": "pzGIHv4T7Mwu",
        "colab_type": "code",
        "outputId": "f81cbd33-8bfa-4dea-b103-afa682feab68",
        "colab": {
          "base_uri": "https://localhost:8080/",
          "height": 86
        }
      },
      "source": [
        "elastic_net = ElasticNet()\n",
        "param_grid = {'alpha': [0.2, 0.5, 1.0, 2.0], 'normalize': [True, False],\n",
        "              'max_iter': [1000, 2000], 'warm_start': [True, False], 'l1_ratio': [0.1, 0.3, 0.5]}\n",
        "\n",
        "elastic_net = grid_search(elastic_net, param_grid)"
      ],
      "execution_count": 0,
      "outputs": [
        {
          "output_type": "stream",
          "text": [
            "ElasticNet(alpha=0.2, copy_X=True, fit_intercept=True, l1_ratio=0.5,\n",
            "           max_iter=2000, normalize=False, positive=False, precompute=False,\n",
            "           random_state=None, selection='cyclic', tol=0.0001, warm_start=True)\n",
            "Best validation Score: 67534.15857706146\n"
          ],
          "name": "stdout"
        }
      ]
    },
    {
      "cell_type": "markdown",
      "metadata": {
        "id": "898Iy7pWp7ui",
        "colab_type": "text"
      },
      "source": [
        "7. Decision Tree"
      ]
    },
    {
      "cell_type": "code",
      "metadata": {
        "id": "U_SNrqveqEEn",
        "colab_type": "code",
        "outputId": "c83a51af-7623-4f91-8ac4-76ec86b617c2",
        "colab": {
          "base_uri": "https://localhost:8080/",
          "height": 121
        }
      },
      "source": [
        "dt_reg = DecisionTreeRegressor()\n",
        "param_grid = {'criterion': ['mse', 'mae'], 'splitter': ['best', 'random'], \n",
        "              'max_depth': [20, 30], 'min_samples_split': [6, 10],\n",
        "              'min_samples_leaf': [2, 4], 'min_weight_fraction_leaf': [0.01, 0.1],\n",
        "              'max_features': [0.5, 0.7, 1.0], 'presort': [True]}\n",
        "\n",
        "dt_reg = grid_search(dt_reg, param_grid)"
      ],
      "execution_count": 0,
      "outputs": [
        {
          "output_type": "stream",
          "text": [
            "DecisionTreeRegressor(criterion='mse', max_depth=30, max_features=0.5,\n",
            "                      max_leaf_nodes=None, min_impurity_decrease=0.0,\n",
            "                      min_impurity_split=None, min_samples_leaf=4,\n",
            "                      min_samples_split=10, min_weight_fraction_leaf=0.01,\n",
            "                      presort=True, random_state=None, splitter='best')\n",
            "Best validation Score: 66054.67250575518\n"
          ],
          "name": "stdout"
        }
      ]
    },
    {
      "cell_type": "markdown",
      "metadata": {
        "id": "Ix70QiXAsQPi",
        "colab_type": "text"
      },
      "source": [
        "8. SVM"
      ]
    },
    {
      "cell_type": "code",
      "metadata": {
        "id": "kLj55U293d1A",
        "colab_type": "code",
        "outputId": "03b55e45-c8df-410b-9500-939f67ec24a9",
        "colab": {
          "base_uri": "https://localhost:8080/",
          "height": 69
        }
      },
      "source": [
        "svr_reg = SVR()\n",
        "param_grid = {'kernel': ['poly', 'rbf', 'sigmoid'],\n",
        "              'degree': [1, 2], 'gamma': [0.1, 0.01], 'coef0': [0.1, 0.01], \n",
        "              'tol': [1e-5], 'C': [0.5, 1.0, 2.0], 'epsilon': [0.1, 0.01], \n",
        "              'max_iter': [2000]}\n",
        "\n",
        "svr_reg = grid_search(svr_reg, param_grid)"
      ],
      "execution_count": 0,
      "outputs": [
        {
          "output_type": "stream",
          "text": [
            "SVR(C=2.0, cache_size=200, coef0=0.1, degree=1, epsilon=0.1, gamma=0.1,\n",
            "    kernel='rbf', max_iter=2000, shrinking=True, tol=1e-05, verbose=False)\n",
            "Best validation Score: 117169.88970219147\n"
          ],
          "name": "stdout"
        }
      ]
    },
    {
      "cell_type": "markdown",
      "metadata": {
        "id": "npobCGD27TBV",
        "colab_type": "text"
      },
      "source": [
        "<h2>Testing</h2>"
      ]
    },
    {
      "cell_type": "markdown",
      "metadata": {
        "id": "biu_keCiyar0",
        "colab_type": "text"
      },
      "source": [
        "Running the best models trained through grid search on the test set."
      ]
    },
    {
      "cell_type": "code",
      "metadata": {
        "id": "aBSrh3K3ylnW",
        "colab_type": "code",
        "colab": {}
      },
      "source": [
        "models = []\n",
        "model_names = ['LinearRegression', 'BatchGradientDescent', 'SGDRegressor', \n",
        "               'Ridge', 'Lasso', 'ElasticNet', 'DecisionTreeRegressor', 'SVR']\n",
        "\n",
        "# load models from saved pickle file\n",
        "for name in model_names:\n",
        "    try:\n",
        "        with open(name + '.pickle', 'rb') as f:\n",
        "            model = load(f)\n",
        "            print(model)\n",
        "            #model.fit(X_train_bias, y_train)\n",
        "            models.append(model)\n",
        "    except:\n",
        "        pass\n",
        "\n",
        "# test models on test data\n",
        "X_test = lin_reg_pipeline.transform(X_test.values)\n",
        "\n",
        "for model in models:\n",
        "    print(type(model).__name__)\n",
        "    y_predict = model.predict(X_test)\n",
        "    print(\"Score:\", np.sqrt(mean_squared_error(y_test, y_predict)))\n",
        "    print('\\n')"
      ],
      "execution_count": 0,
      "outputs": []
    },
    {
      "cell_type": "markdown",
      "metadata": {
        "id": "GPzPfhCEMVGn",
        "colab_type": "text"
      },
      "source": [
        "Comparing with Random Forests Classifier which is an ensemble method."
      ]
    },
    {
      "cell_type": "code",
      "metadata": {
        "id": "6XSNLcBnEPqn",
        "colab_type": "code",
        "colab": {}
      },
      "source": [
        "rf_reg = RandomForestRegressor()\n",
        "param_grid = {'n_estimators': [100], 'min_samples_split': [4],\n",
        "              'min_samples_leaf': [4], 'bootstrap': [True], 'n_jobs': [-1],\n",
        "              'warm_start': [False]}\n",
        "\n",
        "rf_reg = grid_search(rf_reg, param_grid)\n",
        "y_predict = rf_reg.predict(X_test)\n",
        "print(\"Score:\", np.sqrt(mean_squared_error(y_test, y_predict)))"
      ],
      "execution_count": 0,
      "outputs": []
    },
    {
      "cell_type": "markdown",
      "metadata": {
        "id": "r61lTKyg2Von",
        "colab_type": "text"
      },
      "source": [
        "<h2>Conclusion</h2>"
      ]
    }
  ]
}
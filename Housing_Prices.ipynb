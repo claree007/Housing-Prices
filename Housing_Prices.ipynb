{
  "nbformat": 4,
  "nbformat_minor": 0,
  "metadata": {
    "colab": {
      "name": "Housing_Prices.ipynb",
      "version": "0.3.2",
      "provenance": [],
      "collapsed_sections": [],
      "include_colab_link": true
    },
    "kernelspec": {
      "name": "python3",
      "display_name": "Python 3"
    }
  },
  "cells": [
    {
      "cell_type": "markdown",
      "metadata": {
        "id": "view-in-github",
        "colab_type": "text"
      },
      "source": [
        "<a href=\"https://colab.research.google.com/github/claree007/Housing-Prices/blob/master/Housing_Prices.ipynb\" target=\"_parent\"><img src=\"https://colab.research.google.com/assets/colab-badge.svg\" alt=\"Open In Colab\"/></a>"
      ]
    },
    {
      "cell_type": "markdown",
      "metadata": {
        "id": "yakjDB5l64ix",
        "colab_type": "text"
      },
      "source": [
        "<h1>California Housing Prices</h1>\n",
        "\n",
        "This is a regression problem which I have tackled using different ML models and here I compare their training time and accuracy. I have used Scikit-Learn and TensorFlow.\n",
        "\n",
        "\n"
      ]
    },
    {
      "cell_type": "code",
      "metadata": {
        "id": "msJ_fxf6w9UW",
        "colab_type": "code",
        "colab": {}
      },
      "source": [
        "import os\n",
        "import time\n",
        "import warnings\n",
        "import numpy as np\n",
        "import pandas as pd\n",
        "import tensorflow as tf\n",
        "import matplotlib.pyplot as plt\n",
        "from tensorflow import keras\n",
        "from sklearn.svm import LinearSVR\n",
        "from sklearn.pipeline import Pipeline\n",
        "from sklearn.linear_model import Ridge\n",
        "from sklearn.linear_model import Lasso\n",
        "from sklearn.linear_model import ElasticNet\n",
        "from sklearn.linear_model import SGDRegressor\n",
        "from sklearn.tree import DecisionTreeRegressor\n",
        "from sklearn.metrics import mean_squared_error\n",
        "from sklearn.model_selection import GridSearchCV\n",
        "from sklearn.preprocessing import StandardScaler\n",
        "from sklearn.linear_model import LinearRegression\n",
        "from sklearn.ensemble import RandomForestRegressor\n",
        "from sklearn.model_selection import cross_val_score\n",
        "from sklearn.model_selection import train_test_split\n",
        "from sklearn.preprocessing import PolynomialFeatures\n",
        "from sklearn.base import BaseEstimator, TransformerMixin, RegressorMixin"
      ],
      "execution_count": 0,
      "outputs": []
    },
    {
      "cell_type": "markdown",
      "metadata": {
        "id": "lEYDNJEr7xKx",
        "colab_type": "text"
      },
      "source": [
        "<h2>Loading the dataset</h2>\n",
        "\n",
        "The dataset is already split into train and test set but it is the ratio 1:1. So I combine the 2 sets and then divide the whole set into train and test sets in the ratio 80 : 20 and then split the training set to make validation set in the ratio 20 : 80. The dataset is already clean and ready to train."
      ]
    },
    {
      "cell_type": "code",
      "metadata": {
        "id": "F7S7Fq3i3LLi",
        "colab_type": "code",
        "outputId": "fb4f43f9-865c-4040-e6dd-eae081dea92b",
        "colab": {
          "base_uri": "https://localhost:8080/",
          "height": 69
        }
      },
      "source": [
        "HOUSING_PATH = \"sample_data\"\n",
        "\n",
        "def load_housing_data(file_name, housing_path=HOUSING_PATH):\n",
        "    csv_path = os.path.join(housing_path, file_name)\n",
        "    return pd.read_csv(csv_path)\n",
        "\n",
        "\n",
        "housing_set1 = load_housing_data(file_name=\"california_housing_train.csv\")\n",
        "housing_set2 = load_housing_data(file_name=\"california_housing_test.csv\")\n",
        "\n",
        "housing = pd.concat([housing_set1, housing_set2], axis=0, ignore_index=True)\n",
        "\n",
        "housing_X = housing.drop(\"median_house_value\", axis=1)\n",
        "housing_y = housing[\"median_house_value\"].copy()\n",
        "\n",
        "X_train_whole, X_test, y_train_whole, y_test = train_test_split(housing_X, housing_y, test_size=0.2)\n",
        "X_train, X_val, y_train, y_val = train_test_split(X_train_whole, y_train_whole, test_size=0.2)\n",
        "\n",
        "print(\"Training set size:\", X_train.shape)\n",
        "print(\"Validation set size:\", X_val.shape)\n",
        "print(\"Test set size:\", X_test.shape)\n",
        "\n",
        "#housing.head()"
      ],
      "execution_count": 2,
      "outputs": [
        {
          "output_type": "stream",
          "text": [
            "Training set size: (12800, 8)\n",
            "Validation set size: (3200, 8)\n",
            "Test set size: (4000, 8)\n"
          ],
          "name": "stdout"
        }
      ]
    },
    {
      "cell_type": "markdown",
      "metadata": {
        "id": "U9dzx1QR-0__",
        "colab_type": "text"
      },
      "source": [
        "Some visualizations of the dataset."
      ]
    },
    {
      "cell_type": "code",
      "metadata": {
        "id": "Ex9VFypLCO-T",
        "colab_type": "code",
        "outputId": "78767e19-5e03-4f63-c689-240c70148441",
        "colab": {
          "base_uri": "https://localhost:8080/",
          "height": 190
        }
      },
      "source": [
        "#housing.hist(bins=50, figsize=(20, 15))\n",
        "#plt.show()\n",
        "\n",
        "correlation = housing.corr()\n",
        "correlation[\"median_house_value\"].sort_values(ascending=False)"
      ],
      "execution_count": 0,
      "outputs": [
        {
          "output_type": "execute_result",
          "data": {
            "text/plain": [
              "median_house_value    1.000000\n",
              "median_income         0.689109\n",
              "total_rooms           0.135298\n",
              "housing_median_age    0.104470\n",
              "households            0.066573\n",
              "total_bedrooms        0.051111\n",
              "population           -0.024234\n",
              "longitude            -0.045788\n",
              "latitude             -0.143969\n",
              "Name: median_house_value, dtype: float64"
            ]
          },
          "metadata": {
            "tags": []
          },
          "execution_count": 4
        }
      ]
    },
    {
      "cell_type": "markdown",
      "metadata": {
        "id": "mBKrsnKDvj6e",
        "colab_type": "text"
      },
      "source": [
        "<h2>Preparing the dataset</h2>"
      ]
    },
    {
      "cell_type": "code",
      "metadata": {
        "id": "KGOBuiwTkMBm",
        "colab_type": "code",
        "colab": {}
      },
      "source": [
        "class AddBias(BaseEstimator, TransformerMixin):\n",
        "    def fit(self, X, y=None):\n",
        "        return self\n",
        "    def transform(self, X, Y=None):\n",
        "        return np.c_[np.ones((X.shape[0], 1)), X]\n",
        "\n",
        "\n",
        "lin_reg_pipeline = Pipeline([\n",
        "    (\"std_scaler\", StandardScaler()),\n",
        "    (\"bias_adder\", AddBias()),\n",
        "])\n",
        "\n",
        "# standardize and add bias to training set\n",
        "X_train_bias = lin_reg_pipeline.fit_transform(X_train)\n",
        "\n",
        "# standardize and add bias to validation set\n",
        "X_val_bias = lin_reg_pipeline.transform(X_val)\n",
        "\n",
        "\n",
        "# to prevent some error\n",
        "y_train = y_train.ravel().reshape(y_train.shape[0], 1)\n",
        "y_val = y_val.ravel().reshape(y_val.shape[0], 1)"
      ],
      "execution_count": 0,
      "outputs": []
    },
    {
      "cell_type": "markdown",
      "metadata": {
        "colab_type": "text",
        "id": "eYuPFh2XBOyH"
      },
      "source": [
        "<h2>Training</h2>\n",
        "\n",
        "For each model, the best hyperparameters will searched and used. The accuracy of each model during training is testd against a validation set."
      ]
    },
    {
      "cell_type": "code",
      "metadata": {
        "id": "GQlXApY_aHOI",
        "colab_type": "code",
        "colab": {}
      },
      "source": [
        "def rmse_error(y_train, y_train_predict, y_val, y_val_predict):\n",
        "    '''\n",
        "    for i in range(len(y_train)):\n",
        "        train_error.append(mean_squared_error(y_train.iloc[:i+1], y_train_predict[:i+1]))\n",
        "    for i in range(len(y_val)):\n",
        "        val_error.append(mean_squared_error(y_val.iloc[:i+1], y_val_predict[:i+1]))\n",
        "    '''\n",
        "    train_error = np.sqrt(mean_squared_error(y_train, y_train_predict))\n",
        "    val_error = np.sqrt(mean_squared_error(y_val.ravel(), y_val_predict))\n",
        "    return train_error, val_error\n",
        "    '''\n",
        "    plt.plot(np.sqrt(train_error), \"b-\", linewidth=2, label=\"train\")\n",
        "    plt.plot(np.sqrt(val_error), \"r-\", linewidth=2, label=\"validation\")\n",
        "    plt.legend()\n",
        "    '''\n",
        "\n",
        "def cross_validation_score(model, X, y):\n",
        "    return cross_val_score(model, X, y, cv=10)\n",
        "    \n",
        "def learning_curve(model, X_train, y_train, X_val, y_val):\n",
        "    train_error = []\n",
        "    val_error = []\n",
        "    m_train = len(X_train)\n",
        "    m_val = len(X_val)\n",
        "    \n",
        "    if m_val <= m_train:\n",
        "        m = m_val\n",
        "    else:\n",
        "        m = m_train\n",
        "        \n",
        "    for i in range(10, m+1):\n",
        "        model.fit(X_train[:i], y_train[:i])\n",
        "        y_train_predict = model.predict(X_train[:m])\n",
        "        y_val_predict = model.predict(X_val)\n",
        "        train_error.append(mean_squared_error(y_train[:m], y_train_predict))\n",
        "        val_error.append(mean_squared_error(y_val, y_val_predict))\n",
        "        #plt.plot(np.sqrt(train_error), \"b-\", linewidth=3, label=\"train\")\n",
        "        #plt.plot(np.sqrt(val_error), \"r-\", label=\"val\")\n",
        "        \n",
        "    plt.plot(np.sqrt(train_error), \"b-\", linewidth=3, label=\"train\")\n",
        "    plt.plot(np.sqrt(val_error), \"r-\", label=\"val\")\n",
        "    plt.legend()\n",
        "    plt.show()\n",
        "    \n",
        "    \n",
        "def train_model(model, X_train, y_train, X_val, y_val):\n",
        "    print(type(model).__name__)\n",
        "    start = time.time()\n",
        "    print(y_train.shape)\n",
        "    model.fit(X_train, y_train)\n",
        "    end = time.time()\n",
        "    \n",
        "    y_train_predict = model.predict(X_train)\n",
        "    y_val_predict = model.predict(X_val)\n",
        "\n",
        "    print(rmse_error(y_train, y_train_predict, y_val, y_val_predict))\n",
        "\n",
        "    #scores = cross_validation_score(model, X_train_whole, y_train_whole)\n",
        "    #print(\"Accuracy: {0:2.2f} +/- {1:2.2f}\".format(scores.mean(), scores.std()))\n",
        "    print(\"Time taken: {0:2.5f} seconds\".format(end-start))\n",
        "    print('\\n\\n\\n')"
      ],
      "execution_count": 0,
      "outputs": []
    },
    {
      "cell_type": "markdown",
      "metadata": {
        "id": "HABSOFB4_6WM",
        "colab_type": "text"
      },
      "source": [
        "<h3>Linear Regression</h3>\n",
        "\n",
        "1. SVD"
      ]
    },
    {
      "cell_type": "code",
      "metadata": {
        "id": "NwfdTv0YrjAw",
        "colab_type": "code",
        "outputId": "c7ead535-faa6-45cb-862a-b15147609230",
        "colab": {
          "base_uri": "https://localhost:8080/",
          "height": 103
        }
      },
      "source": [
        "lin_reg = LinearRegression()\n",
        "#learning_curve(lin_reg, X_train_bias, y_train, X_val_bias, y_val)\n",
        "train_model(lin_reg, X_train, y_train, X_val, y_val)\n",
        "\n",
        "theta_best = np.linalg.inv(X_train_bias.T.dot(X_train_bias)).dot(X_train_bias.T).dot(y_train)\n",
        "\n",
        "y_train_predict = X_train_bias.dot(theta_best)\n",
        "\n",
        "# making predictions\n",
        "\n",
        "y_val_predict = X_val_bias.dot(theta_best)\n",
        "\n",
        "print(rmse_error(y_train, y_train_predict, y_val, y_val_predict))\n"
      ],
      "execution_count": 0,
      "outputs": [
        {
          "output_type": "stream",
          "text": [
            "LinearRegression\n",
            "(12800,)\n",
            "(69169.77008973308, 71641.4207119384)\n",
            "Time taken: 0.01253 seconds\n",
            "(69169.77008973307, 71641.42071194034)\n"
          ],
          "name": "stdout"
        }
      ]
    },
    {
      "cell_type": "markdown",
      "metadata": {
        "id": "riC3x1hNYEjI",
        "colab_type": "text"
      },
      "source": [
        "2. Batch Gradient Descent"
      ]
    },
    {
      "cell_type": "code",
      "metadata": {
        "id": "Iqs1CdNbYIRl",
        "colab_type": "code",
        "colab": {}
      },
      "source": [
        "class BatchGradientDescent(BaseEstimator, RegressorMixin):\n",
        "    def __init__(self, lr=0.01, n_iterations=10):\n",
        "        self.lr = lr\n",
        "        self.n_iterations = n_iterations\n",
        "        self.intercept_ = None\n",
        "        self.coef_ = None\n",
        "        self.theta = None\n",
        "        self.cost = np.array([])\n",
        "        \n",
        "    def gradient_descent(self, X, y, theta):\n",
        "        m = X.shape[0]\n",
        "        for iteration in range(self.n_iterations):\n",
        "            print(iteration)\n",
        "            #print(X.dot(theta).shape, y.shape)\n",
        "            err = np.subtract(X.dot(theta), y)\n",
        "            #print(err.values)\n",
        "            self.cost = np.append(self.cost, (1 / (2 * m)) * np.sum(np.square(err)))\n",
        "            gradient = (1 / m) * (X.T.dot(err))\n",
        "            theta = theta - (self.lr * gradient)\n",
        "        return theta\n",
        "        \n",
        "    def fit(self, X, y=None, theta=None):\n",
        "        print(type(y))\n",
        "        if theta == None:\n",
        "            self.theta = np.random.randn(X.shape[1], 1)\n",
        "        else:\n",
        "            self.theta = theta\n",
        "        self.theta = self.gradient_descent(X, y, self.theta)\n",
        "        self.intercept_ = self.theta[0]\n",
        "        self.coef_ = self.theta[1:]\n",
        "        \n",
        "    def predict(self, X):\n",
        "        try:\n",
        "            if self.theta:\n",
        "                return X.dot(self.theta)\n",
        "        except Exception as e:\n",
        "            print(e)\n",
        "            if self.theta.any() == False:\n",
        "                return X.dot(self.theta)\n",
        "        else:\n",
        "            return \"Run the fit method first\"\n",
        "        \n",
        "        \n",
        "bgd = BatchGradientDescent()\n",
        "#learning_curve(lin_reg, X_train, y_train, X_val, y_val)\n",
        "train_model(bgd, X_train_bias, y_train, X_val_bias, y_val)\n",
        "        \n",
        "'''\n",
        "lr = 0.3\n",
        "n_iterations = 150\n",
        "m = X_train.shape[0]\n",
        "\n",
        "theta = np.random.randn(X_train.shape[1]+1, 1)\n",
        "cost = np.array([])\n",
        "\n",
        "#print(X_train_bias.dot(theta))\n",
        "\n",
        "for iteration in range(n_iterations):\n",
        "    #print(X_train_bias.dot(theta))\n",
        "    #print(iteration,)\n",
        "    #y_train.reshape = (-1, 1)\n",
        "    y_train.values.shape = (y_train.shape[0], 1)\n",
        "    err = np.subtract(X_train_bias.dot(theta), y_train.values)\n",
        "    #print(X_train_bias.dot(theta).shape, y_train.shape, err.shape)\n",
        "    cost = np.append(cost, (1 / (2 * m)) * np.sum(np.square(err)))\n",
        "    #print(\"cost:\", cost[iteration])\n",
        "    gradient = (1 / m) * (X_train_bias.T.dot(err))\n",
        "    #print(\"gradient:\", gradient)\n",
        "    #print(X_train_bias.T.shape, err.shape, (X_train_bias.T.dot(err)).shape)\n",
        "    theta = theta - (lr * gradient)\n",
        "    #print(\"theta:\", theta)\n",
        "    \n",
        "plt.plot(np.arange(1, n_iterations + 1), cost, \"b-\", label=\"cost function\")\n",
        "plt.xlabel(\"no of iterations\")\n",
        "plt.ylabel(\"cost\")\n",
        "plt.show()\n",
        "\n",
        "y_train_predict = X_train_bias.dot(theta)\n",
        "y_val_predict = X_val_bias.dot(theta)\n",
        "#print(y_train.values, y_train_predict)\n",
        "rmse_error(y_train.values, y_train_predict, y_val.values, y_val_predict)\n",
        "'''"
      ],
      "execution_count": 0,
      "outputs": []
    },
    {
      "cell_type": "markdown",
      "metadata": {
        "id": "BEhdsJetsWqT",
        "colab_type": "text"
      },
      "source": [
        "3. Stochastic Gradient Descent"
      ]
    },
    {
      "cell_type": "code",
      "metadata": {
        "id": "6eDAOw8TzEEb",
        "colab_type": "code",
        "colab": {}
      },
      "source": [
        "sgd_reg = SGDRegressor(max_iter=1000, tol=1e-3, penalty=None, eta0=0.03)\n",
        "sgd_reg.fit(X_train_bias, y_train.ravel())\n",
        "\n",
        "y_train_predict = sgd_reg.predict(X_train_bias)\n",
        "y_val_predict = sgd_reg.predict(X_val_bias)\n",
        "\n",
        "rmse_error(y_train, y_train_predict, y_val, y_val_predict)"
      ],
      "execution_count": 0,
      "outputs": []
    },
    {
      "cell_type": "markdown",
      "metadata": {
        "id": "Rzdn3xhl3tVg",
        "colab_type": "text"
      },
      "source": [
        "4. Ridge Regression"
      ]
    },
    {
      "cell_type": "code",
      "metadata": {
        "id": "3gjDmLNn3zPs",
        "colab_type": "code",
        "outputId": "95749c7b-ec41-45f3-bd12-201692beb533",
        "colab": {
          "base_uri": "https://localhost:8080/",
          "height": 34
        }
      },
      "source": [
        "ridge_reg = Ridge(alpha=1, solver=\"cholesky\")\n",
        "ridge_reg.fit(X_train, y_train.ravel())\n",
        "\n",
        "y_train_predict = ridge_reg.predict(X_train)\n",
        "y_val_predict = ridge_reg.predict(X_val)\n",
        "\n",
        "rmse_error(y_train, y_train_predict, y_val, y_val_predict)"
      ],
      "execution_count": 0,
      "outputs": [
        {
          "output_type": "execute_result",
          "data": {
            "text/plain": [
              "(69379.79717275512, 70324.05568626848)"
            ]
          },
          "metadata": {
            "tags": []
          },
          "execution_count": 12
        }
      ]
    },
    {
      "cell_type": "code",
      "metadata": {
        "id": "yI1ynNBfWW5L",
        "colab_type": "code",
        "outputId": "8f9e6b07-934c-4898-cac0-5a1cbb515f85",
        "colab": {
          "base_uri": "https://localhost:8080/",
          "height": 2759
        }
      },
      "source": [
        "lin_reg = LinearRegression()\n",
        "#bgd = BatchGradientDescent()\n",
        "sgd_reg = SGDRegressor(max_iter=50000, tol=1e-3, penalty=None, eta0=0.3)\n",
        "ridge_reg = Ridge(alpha=1, solver=\"cholesky\")\n",
        "lasso_reg = Lasso(alpha=1)\n",
        "elastic_net = ElasticNet(alpha=0.1, l1_ratio=0.5)\n",
        "svm_reg = LinearSVR(epsilon=1.5)\n",
        "dt_reg = DecisionTreeRegressor(max_depth=10)\n",
        "rf_reg = RandomForestRegressor(n_estimators=10)\n",
        "\n",
        "#####   save these as tuple of(model, bool for whether ravel is needed)   ######\n",
        "models = [lin_reg, sgd_reg, ridge_reg, lasso_reg, elastic_net, dt_reg, rf_reg]\n",
        "\n",
        "###############   grid search   #####################\n",
        "\n",
        "warnings.simplefilter(\"ignore\")\n",
        "for model in models:\n",
        "    learning_curve(model, X_train_bias, y_train.ravel(), X_val_bias, y_val.ravel())\n",
        "    train_model(model, X_train_bias, y_train, X_val_bias, y_val)"
      ],
      "execution_count": 13,
      "outputs": [
        {
          "output_type": "display_data",
          "data": {
            "image/png": "[encoded data removed]",
            "text/plain": [
              "<Figure size 432x288 with 1 Axes>"
            ]
          },
          "metadata": {
            "tags": []
          }
        },
        {
          "output_type": "stream",
          "text": [
            "LinearRegression\n",
            "(12800, 1)\n",
            "(69783.82125823473, 67970.1683880426)\n",
            "Time taken: 0.01530 seconds\n",
            "\n",
            "\n",
            "\n",
            "\n"
          ],
          "name": "stdout"
        },
        {
          "output_type": "display_data",
          "data": {
            "image/png": "[encoded data removed]",
            "text/plain": [
              "<Figure size 432x288 with 1 Axes>"
            ]
          },
          "metadata": {
            "tags": []
          }
        },
        {
          "output_type": "stream",
          "text": [
            "SGDRegressor\n",
            "(12800, 1)\n",
            "(71987.45895235546, 70159.51073616097)\n",
            "Time taken: 0.04037 seconds\n",
            "\n",
            "\n",
            "\n",
            "\n"
          ],
          "name": "stdout"
        },
        {
          "output_type": "display_data",
          "data": {
            "image/png": "[encoded data removed]",
            "text/plain": [
              "<Figure size 432x288 with 1 Axes>"
            ]
          },
          "metadata": {
            "tags": []
          }
        },
        {
          "output_type": "stream",
          "text": [
            "Ridge\n",
            "(12800, 1)\n",
            "(69783.83528839216, 67971.45999747956)\n",
            "Time taken: 0.00468 seconds\n",
            "\n",
            "\n",
            "\n",
            "\n"
          ],
          "name": "stdout"
        },
        {
          "output_type": "display_data",
          "data": {
            "image/png": "[encoded data removed]",
            "text/plain": [
              "<Figure size 432x288 with 1 Axes>"
            ]
          },
          "metadata": {
            "tags": []
          }
        },
        {
          "output_type": "stream",
          "text": [
            "Lasso\n",
            "(12800, 1)\n",
            "(69783.82179969696, 67970.30857934312)\n",
            "Time taken: 0.04791 seconds\n",
            "\n",
            "\n",
            "\n",
            "\n"
          ],
          "name": "stdout"
        },
        {
          "output_type": "display_data",
          "data": {
            "image/png": "[encoded data removed]",
            "text/plain": [
              "<Figure size 432x288 with 1 Axes>"
            ]
          },
          "metadata": {
            "tags": []
          }
        },
        {
          "output_type": "stream",
          "text": [
            "ElasticNet\n",
            "(12800, 1)\n",
            "(71484.11857828048, 70037.00898201863)\n",
            "Time taken: 0.02843 seconds\n",
            "\n",
            "\n",
            "\n",
            "\n"
          ],
          "name": "stdout"
        },
        {
          "output_type": "display_data",
          "data": {
            "image/png": "[encoded data removed]",
            "text/plain": [
              "<Figure size 432x288 with 1 Axes>"
            ]
          },
          "metadata": {
            "tags": []
          }
        },
        {
          "output_type": "stream",
          "text": [
            "DecisionTreeRegressor\n",
            "(12800, 1)\n",
            "(46039.33893542222, 67244.18574896778)\n",
            "Time taken: 0.09559 seconds\n",
            "\n",
            "\n",
            "\n",
            "\n"
          ],
          "name": "stdout"
        },
        {
          "output_type": "display_data",
          "data": {
            "image/png": "[encoded data removed]",
            "text/plain": [
              "<Figure size 432x288 with 1 Axes>"
            ]
          },
          "metadata": {
            "tags": []
          }
        },
        {
          "output_type": "stream",
          "text": [
            "RandomForestRegressor\n",
            "(12800, 1)\n",
            "(22292.570672308004, 53138.228414390906)\n",
            "Time taken: 0.83110 seconds\n",
            "\n",
            "\n",
            "\n",
            "\n"
          ],
          "name": "stdout"
        }
      ]
    },
    {
      "cell_type": "code",
      "metadata": {
        "id": "-le3wdGURzDt",
        "colab_type": "code",
        "colab": {
          "base_uri": "https://localhost:8080/",
          "height": 2759
        },
        "outputId": "b6bd707f-fa9d-4c62-db3e-f9f675a379f8"
      },
      "source": [
        "poly_reg_pipeline = Pipeline([\n",
        "    (\"std_scaler\", StandardScaler()),\n",
        "    (\"poly_features\", PolynomialFeatures(degree=2, include_bias=\"False\")),\n",
        "    (\"bias_adder\", AddBias()),\n",
        "])\n",
        "\n",
        "#poly_features = PolynomialFeatures(degree=2, include_bias=\"False\")\n",
        "X_train_bias = poly_reg_pipeline.fit_transform(X_train)\n",
        "X_val_bias = poly_reg_pipeline.transform(X_val)\n",
        "\n",
        "models = [lin_reg, sgd_reg, ridge_reg, lasso_reg, elastic_net, dt_reg, rf_reg]\n",
        "\n",
        "warnings.simplefilter(\"ignore\")\n",
        "\n",
        "for model in models:\n",
        "    learning_curve(model, X_train_bias, y_train.ravel(), X_val_bias, y_val.ravel())\n",
        "    train_model(model, X_train_bias, y_train, X_val_bias, y_val)"
      ],
      "execution_count": 16,
      "outputs": [
        {
          "output_type": "display_data",
          "data": {
            "image/png": "[encoded data removed]",
            "text/plain": [
              "<Figure size 432x288 with 1 Axes>"
            ]
          },
          "metadata": {
            "tags": []
          }
        },
        {
          "output_type": "stream",
          "text": [
            "LinearRegression\n",
            "(12800, 1)\n",
            "(63283.52162502859, 62293.26374365892)\n",
            "Time taken: 0.03397 seconds\n",
            "\n",
            "\n",
            "\n",
            "\n"
          ],
          "name": "stdout"
        },
        {
          "output_type": "display_data",
          "data": {
            "image/png": "[encoded data removed]",
            "text/plain": [
              "<Figure size 432x288 with 1 Axes>"
            ]
          },
          "metadata": {
            "tags": []
          }
        },
        {
          "output_type": "stream",
          "text": [
            "SGDRegressor\n",
            "(12800, 1)\n",
            "(14445956867186.377, 2691402125030.037)\n",
            "Time taken: 0.11139 seconds\n",
            "\n",
            "\n",
            "\n",
            "\n"
          ],
          "name": "stdout"
        },
        {
          "output_type": "display_data",
          "data": {
            "image/png": "[encoded data removed]",
            "text/plain": [
              "<Figure size 432x288 with 1 Axes>"
            ]
          },
          "metadata": {
            "tags": []
          }
        },
        {
          "output_type": "stream",
          "text": [
            "Ridge\n",
            "(12800, 1)\n",
            "(63284.2669891772, 62277.66262678806)\n",
            "Time taken: 0.01934 seconds\n",
            "\n",
            "\n",
            "\n",
            "\n"
          ],
          "name": "stdout"
        },
        {
          "output_type": "display_data",
          "data": {
            "image/png": "[encoded data removed]",
            "text/plain": [
              "<Figure size 432x288 with 1 Axes>"
            ]
          },
          "metadata": {
            "tags": []
          }
        },
        {
          "output_type": "stream",
          "text": [
            "Lasso\n",
            "(12800, 1)\n",
            "(63325.69451391317, 62255.82266376388)\n",
            "Time taken: 0.72455 seconds\n",
            "\n",
            "\n",
            "\n",
            "\n"
          ],
          "name": "stdout"
        },
        {
          "output_type": "display_data",
          "data": {
            "image/png": "[encoded data removed]",
            "text/plain": [
              "<Figure size 432x288 with 1 Axes>"
            ]
          },
          "metadata": {
            "tags": []
          }
        },
        {
          "output_type": "stream",
          "text": [
            "ElasticNet\n",
            "(12800, 1)\n",
            "(68283.3922596871, 67001.2926630841)\n",
            "Time taken: 0.89165 seconds\n",
            "\n",
            "\n",
            "\n",
            "\n"
          ],
          "name": "stdout"
        },
        {
          "output_type": "display_data",
          "data": {
            "image/png": "[encoded data removed]",
            "text/plain": [
              "<Figure size 432x288 with 1 Axes>"
            ]
          },
          "metadata": {
            "tags": []
          }
        },
        {
          "output_type": "stream",
          "text": [
            "DecisionTreeRegressor\n",
            "(12800, 1)\n",
            "(46022.66015465455, 66114.30047997792)\n",
            "Time taken: 0.51886 seconds\n",
            "\n",
            "\n",
            "\n",
            "\n"
          ],
          "name": "stdout"
        },
        {
          "output_type": "display_data",
          "data": {
            "image/png": "[encoded data removed]",
            "text/plain": [
              "<Figure size 432x288 with 1 Axes>"
            ]
          },
          "metadata": {
            "tags": []
          }
        },
        {
          "output_type": "stream",
          "text": [
            "RandomForestRegressor\n",
            "(12800, 1)\n",
            "(22266.957767411626, 53190.41162686147)\n",
            "Time taken: 4.81147 seconds\n",
            "\n",
            "\n",
            "\n",
            "\n"
          ],
          "name": "stdout"
        }
      ]
    },
    {
      "cell_type": "markdown",
      "metadata": {
        "id": "7j88Dby-5cHB",
        "colab_type": "text"
      },
      "source": [
        "5. Lasso Regression"
      ]
    },
    {
      "cell_type": "code",
      "metadata": {
        "id": "NMZOm7lS5gQ0",
        "colab_type": "code",
        "colab": {}
      },
      "source": [
        "lasso_reg = Lasso(alpha=0.1)\n",
        "lasso_reg.fit(X_train, y_train.ravel())\n",
        "\n",
        "learning_curve(lasso_reg, X_train_bias, y_train, X_val_bias, y_val)\n",
        "train_model(lasso_reg, X_train_bias, y_train, X_val_bias, y_val)\n",
        "\n",
        "#y_train_predict = lasso_reg.predict(X_train)\n",
        "#y_val_predict = lasso_reg.predict(X_val)\n",
        "\n",
        "#rmse_error(y_train, y_train_predict, y_val, y_val_predict)"
      ],
      "execution_count": 0,
      "outputs": []
    },
    {
      "cell_type": "markdown",
      "metadata": {
        "id": "jibJhP027Jvb",
        "colab_type": "text"
      },
      "source": [
        "6. Elastic Net"
      ]
    },
    {
      "cell_type": "code",
      "metadata": {
        "id": "pzGIHv4T7Mwu",
        "colab_type": "code",
        "outputId": "2fb95391-1981-4c24-b168-fc62ad065be5",
        "colab": {
          "base_uri": "https://localhost:8080/",
          "height": 34
        }
      },
      "source": [
        "elastic_net = ElasticNet(alpha=0.1, l1_ratio=0.5)\n",
        "elastic_net.fit(X_train, y_train.ravel())\n",
        "\n",
        "y_train_predict = elastic_net.predict(X_train)\n",
        "y_val_predict = elastic_net.predict(X_val)\n",
        "\n",
        "rmse_error(y_train.values, y_train_predict, y_val.values, y_val_predict)"
      ],
      "execution_count": 0,
      "outputs": [
        {
          "output_type": "execute_result",
          "data": {
            "text/plain": [
              "(69766.89780642367, 70718.68878580334)"
            ]
          },
          "metadata": {
            "tags": []
          },
          "execution_count": 77
        }
      ]
    },
    {
      "cell_type": "markdown",
      "metadata": {
        "id": "xzJCfNNc8zwU",
        "colab_type": "text"
      },
      "source": [
        "7. Polynomial Features"
      ]
    },
    {
      "cell_type": "code",
      "metadata": {
        "id": "Zl4nsXrz84ME",
        "colab_type": "code",
        "outputId": "affc5bc2-c846-4fe3-ffba-4d3fceb7f561",
        "colab": {
          "base_uri": "https://localhost:8080/",
          "height": 34
        }
      },
      "source": [
        "poly_features = PolynomialFeatures(degree=2, include_bias=\"False\")\n",
        "X_train_poly = poly_features.fit_transform(X_train)\n",
        "X_val_poly = poly_features.transform(X_val)\n",
        "\n",
        "lin_reg = LinearRegression()\n",
        "lin_reg.fit(X_train_poly, y_train.ravel())\n",
        "\n",
        "y_train_predict = lin_reg.predict(X_train_poly)\n",
        "y_val_predict = lin_reg.predict(X_val_poly)\n",
        "\n",
        "rmse_error(y_train.values, y_train_predict, y_val.values, y_val_predict)"
      ],
      "execution_count": 0,
      "outputs": [
        {
          "output_type": "execute_result",
          "data": {
            "text/plain": [
              "(62977.433474078956, 65122.43232757863)"
            ]
          },
          "metadata": {
            "tags": []
          },
          "execution_count": 78
        }
      ]
    },
    {
      "cell_type": "code",
      "metadata": {
        "id": "6XSNLcBnEPqn",
        "colab_type": "code",
        "outputId": "2cc8155e-434c-45b4-8e95-1dc29948d8b5",
        "colab": {
          "base_uri": "https://localhost:8080/",
          "height": 86
        }
      },
      "source": [
        "#dt_reg = DecisionTreeRegressor(max_depth=10)\n",
        "#train_model(dt_reg, X_train_bias, y_train, X_val_bias, y_val)\n",
        "\n",
        "rf_reg = RandomForestRegressor(n_estimators=100)\n",
        "train_model(rf_reg, X_train_bias, y_train.ravel(), X_val_bias, y_val.ravel())"
      ],
      "execution_count": 0,
      "outputs": [
        {
          "output_type": "stream",
          "text": [
            "RandomForestRegressor\n",
            "(12800,)\n",
            "(18664.50601247451, 51955.05447459563)\n",
            "Time taken: 8.13975 seconds\n"
          ],
          "name": "stdout"
        }
      ]
    },
    {
      "cell_type": "code",
      "metadata": {
        "id": "qeNXwjMU6Xgx",
        "colab_type": "code",
        "outputId": "4c17fe07-fb8a-4a97-91cf-db6d3721c35a",
        "colab": {
          "base_uri": "https://localhost:8080/",
          "height": 69
        }
      },
      "source": [
        "rooms_ind, bedrooms_ind, population_ind, households_ind = 3, 4, 5, 6\n",
        "\n",
        "class CombinedAttributesAdder(BaseEstimator, TransformerMixin):\n",
        "    def __init__(self, add_bedrooms_per_room = True):\n",
        "        self.add_bedrooms_per_room = add_bedrooms_per_room\n",
        "    def fit(self, X, y=None):\n",
        "        return self\n",
        "    def transform(self, X, y=None):\n",
        "        rooms_per_household = X[:, rooms_ind] / X[:, households_ind]\n",
        "        population_per_household = X[:, population_ind] / X[:, households_ind]\n",
        "        if self.add_bedrooms_per_room:\n",
        "            bedrooms_per_room = X[:, bedrooms_ind] / X[:, rooms_ind]\n",
        "            return np.c_[X, rooms_per_household, population_per_household, bedrooms_per_room]\n",
        "        else:\n",
        "            return np.c_[X, rooms_per_household, population_per_household]\n",
        "\n",
        "lr_pipeline = Pipeline([\n",
        "    ('attr_adder', CombinedAttributesAdder()),\n",
        "    ('std_scaler', StandardScaler())\n",
        "])\n",
        "\n",
        "housing_extra_attribs = attr_adder.transform(X_train_whole.values)\n",
        "housing_trans = lr_pipeline.fit_transform(X_train_whole.values)\n",
        "lin_reg = LinearRegression()\n",
        "train_model(model=lin_reg, X=housing_trans)"
      ],
      "execution_count": 0,
      "outputs": [
        {
          "output_type": "stream",
          "text": [
            "LinearRegression(copy_X=True, fit_intercept=True, n_jobs=None, normalize=False)\n",
            "Accuracy: 0.64 +/- 0.01\n",
            "Time taken: 0.004478931427001953\n"
          ],
          "name": "stdout"
        }
      ]
    },
    {
      "cell_type": "markdown",
      "metadata": {
        "id": "X7WiV4zJ3T-C",
        "colab_type": "text"
      },
      "source": [
        "<h3>Support Vector Machines</h3>"
      ]
    },
    {
      "cell_type": "code",
      "metadata": {
        "id": "kLj55U293d1A",
        "colab_type": "code",
        "outputId": "73d7cb3a-4e02-496a-804a-c123968bb562",
        "colab": {
          "base_uri": "https://localhost:8080/",
          "height": 121
        }
      },
      "source": [
        "svm_reg = LinearSVR(epsilon=0.05, C=10, max_iter=20000)\n",
        "train_model(svm_reg, X_train, y_train.ravel(), X_val, y_val.ravel())"
      ],
      "execution_count": 43,
      "outputs": [
        {
          "output_type": "stream",
          "text": [
            "LinearSVR\n",
            "(12800,)\n",
            "(76602.46183271929, 78353.39209861285)\n",
            "Time taken: 22.19128 seconds\n"
          ],
          "name": "stdout"
        },
        {
          "output_type": "stream",
          "text": [
            "/usr/local/lib/python3.6/dist-packages/sklearn/svm/base.py:929: ConvergenceWarning: Liblinear failed to converge, increase the number of iterations.\n",
            "  \"the number of iterations.\", ConvergenceWarning)\n"
          ],
          "name": "stderr"
        }
      ]
    },
    {
      "cell_type": "markdown",
      "metadata": {
        "id": "iaH8Ix3R3iaW",
        "colab_type": "text"
      },
      "source": [
        "<h3>Neural Networks</h3>"
      ]
    },
    {
      "cell_type": "code",
      "metadata": {
        "id": "o8wJoDLX3oAk",
        "colab_type": "code",
        "colab": {}
      },
      "source": [
        "model = keras.models.Sequential([\n",
        "    keras.layers.Dense(30, activation=\"relu\", input_shape=X_train.shape[1:]),\n",
        "    keras.layers.Dense(1)\n",
        "])\n",
        "\n",
        "model.complie(loss=\"mean_squared_error\", optimizer=\"sgd\")\n",
        "history = model.fit(X_train, y_train, epochs=10, validation_data=(X_val, y_val))\n"
      ],
      "execution_count": 0,
      "outputs": []
    },
    {
      "cell_type": "markdown",
      "metadata": {
        "id": "npobCGD27TBV",
        "colab_type": "text"
      },
      "source": [
        "<h2>Testing</h2>"
      ]
    }
  ]
}